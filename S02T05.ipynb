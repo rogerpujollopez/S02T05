{
 "cells": [
  {
   "cell_type": "markdown",
   "id": "bf64f6d3",
   "metadata": {},
   "source": [
    "# Exercici 1"
   ]
  },
  {
   "cell_type": "markdown",
   "id": "04d4d810",
   "metadata": {},
   "source": [
    "#### Descarrega el data set Airlines Delay: Airline on-time statistics and delay causes i carrega’l a un pandas Dataframe. Explora les dades que conté, i queda’t únicament amb les columnes que consideris rellevants."
   ]
  },
  {
   "cell_type": "code",
   "execution_count": 53,
   "id": "8548d8cb",
   "metadata": {},
   "outputs": [],
   "source": [
    "import pandas as pd\n",
    "ds=pd.read_csv(\"S02T05/DelayedFlights.csv\")"
   ]
  },
  {
   "cell_type": "code",
   "execution_count": 82,
   "id": "2694ddd5",
   "metadata": {
    "scrolled": true
   },
   "outputs": [
    {
     "data": {
      "text/html": [
       "<div>\n",
       "<style scoped>\n",
       "    .dataframe tbody tr th:only-of-type {\n",
       "        vertical-align: middle;\n",
       "    }\n",
       "\n",
       "    .dataframe tbody tr th {\n",
       "        vertical-align: top;\n",
       "    }\n",
       "\n",
       "    .dataframe thead th {\n",
       "        text-align: right;\n",
       "    }\n",
       "</style>\n",
       "<table border=\"1\" class=\"dataframe\">\n",
       "  <thead>\n",
       "    <tr style=\"text-align: right;\">\n",
       "      <th></th>\n",
       "      <th>id</th>\n",
       "      <th>Month</th>\n",
       "      <th>DayofMonth</th>\n",
       "      <th>DayOfWeek</th>\n",
       "      <th>DepTime</th>\n",
       "      <th>CRSDepTime</th>\n",
       "      <th>ArrTime</th>\n",
       "      <th>CRSArrTime</th>\n",
       "      <th>UniqueCarrier</th>\n",
       "      <th>FlightNum</th>\n",
       "      <th>...</th>\n",
       "      <th>Distance</th>\n",
       "      <th>TaxiIn</th>\n",
       "      <th>TaxiOut</th>\n",
       "      <th>CarrierDelay</th>\n",
       "      <th>WeatherDelay</th>\n",
       "      <th>NASDelay</th>\n",
       "      <th>SecurityDelay</th>\n",
       "      <th>LateAircraftDelay</th>\n",
       "      <th>haarribattard</th>\n",
       "      <th>velocitatmitja</th>\n",
       "    </tr>\n",
       "  </thead>\n",
       "  <tbody>\n",
       "    <tr>\n",
       "      <th>0</th>\n",
       "      <td>0</td>\n",
       "      <td>1</td>\n",
       "      <td>3</td>\n",
       "      <td>4</td>\n",
       "      <td>2003.0</td>\n",
       "      <td>1955</td>\n",
       "      <td>2211.0</td>\n",
       "      <td>2225</td>\n",
       "      <td>WN</td>\n",
       "      <td>335</td>\n",
       "      <td>...</td>\n",
       "      <td>810</td>\n",
       "      <td>4.0</td>\n",
       "      <td>8.0</td>\n",
       "      <td>NaN</td>\n",
       "      <td>NaN</td>\n",
       "      <td>NaN</td>\n",
       "      <td>NaN</td>\n",
       "      <td>NaN</td>\n",
       "      <td>False</td>\n",
       "      <td>233.653846</td>\n",
       "    </tr>\n",
       "    <tr>\n",
       "      <th>1</th>\n",
       "      <td>1</td>\n",
       "      <td>1</td>\n",
       "      <td>3</td>\n",
       "      <td>4</td>\n",
       "      <td>754.0</td>\n",
       "      <td>735</td>\n",
       "      <td>1002.0</td>\n",
       "      <td>1000</td>\n",
       "      <td>WN</td>\n",
       "      <td>3231</td>\n",
       "      <td>...</td>\n",
       "      <td>810</td>\n",
       "      <td>5.0</td>\n",
       "      <td>10.0</td>\n",
       "      <td>NaN</td>\n",
       "      <td>NaN</td>\n",
       "      <td>NaN</td>\n",
       "      <td>NaN</td>\n",
       "      <td>NaN</td>\n",
       "      <td>True</td>\n",
       "      <td>195.967742</td>\n",
       "    </tr>\n",
       "    <tr>\n",
       "      <th>2</th>\n",
       "      <td>2</td>\n",
       "      <td>1</td>\n",
       "      <td>3</td>\n",
       "      <td>4</td>\n",
       "      <td>628.0</td>\n",
       "      <td>620</td>\n",
       "      <td>804.0</td>\n",
       "      <td>750</td>\n",
       "      <td>WN</td>\n",
       "      <td>448</td>\n",
       "      <td>...</td>\n",
       "      <td>515</td>\n",
       "      <td>3.0</td>\n",
       "      <td>17.0</td>\n",
       "      <td>NaN</td>\n",
       "      <td>NaN</td>\n",
       "      <td>NaN</td>\n",
       "      <td>NaN</td>\n",
       "      <td>NaN</td>\n",
       "      <td>True</td>\n",
       "      <td>175.568182</td>\n",
       "    </tr>\n",
       "    <tr>\n",
       "      <th>3</th>\n",
       "      <td>4</td>\n",
       "      <td>1</td>\n",
       "      <td>3</td>\n",
       "      <td>4</td>\n",
       "      <td>1829.0</td>\n",
       "      <td>1755</td>\n",
       "      <td>1959.0</td>\n",
       "      <td>1925</td>\n",
       "      <td>WN</td>\n",
       "      <td>3920</td>\n",
       "      <td>...</td>\n",
       "      <td>515</td>\n",
       "      <td>3.0</td>\n",
       "      <td>10.0</td>\n",
       "      <td>2.0</td>\n",
       "      <td>0.0</td>\n",
       "      <td>0.0</td>\n",
       "      <td>0.0</td>\n",
       "      <td>32.0</td>\n",
       "      <td>True</td>\n",
       "      <td>237.692308</td>\n",
       "    </tr>\n",
       "    <tr>\n",
       "      <th>4</th>\n",
       "      <td>5</td>\n",
       "      <td>1</td>\n",
       "      <td>3</td>\n",
       "      <td>4</td>\n",
       "      <td>1940.0</td>\n",
       "      <td>1915</td>\n",
       "      <td>2121.0</td>\n",
       "      <td>2110</td>\n",
       "      <td>WN</td>\n",
       "      <td>378</td>\n",
       "      <td>...</td>\n",
       "      <td>688</td>\n",
       "      <td>4.0</td>\n",
       "      <td>10.0</td>\n",
       "      <td>NaN</td>\n",
       "      <td>NaN</td>\n",
       "      <td>NaN</td>\n",
       "      <td>NaN</td>\n",
       "      <td>NaN</td>\n",
       "      <td>True</td>\n",
       "      <td>228.066298</td>\n",
       "    </tr>\n",
       "    <tr>\n",
       "      <th>...</th>\n",
       "      <td>...</td>\n",
       "      <td>...</td>\n",
       "      <td>...</td>\n",
       "      <td>...</td>\n",
       "      <td>...</td>\n",
       "      <td>...</td>\n",
       "      <td>...</td>\n",
       "      <td>...</td>\n",
       "      <td>...</td>\n",
       "      <td>...</td>\n",
       "      <td>...</td>\n",
       "      <td>...</td>\n",
       "      <td>...</td>\n",
       "      <td>...</td>\n",
       "      <td>...</td>\n",
       "      <td>...</td>\n",
       "      <td>...</td>\n",
       "      <td>...</td>\n",
       "      <td>...</td>\n",
       "      <td>...</td>\n",
       "      <td>...</td>\n",
       "    </tr>\n",
       "    <tr>\n",
       "      <th>1936753</th>\n",
       "      <td>7009710</td>\n",
       "      <td>12</td>\n",
       "      <td>13</td>\n",
       "      <td>6</td>\n",
       "      <td>1250.0</td>\n",
       "      <td>1220</td>\n",
       "      <td>1617.0</td>\n",
       "      <td>1552</td>\n",
       "      <td>DL</td>\n",
       "      <td>1621</td>\n",
       "      <td>...</td>\n",
       "      <td>906</td>\n",
       "      <td>9.0</td>\n",
       "      <td>18.0</td>\n",
       "      <td>3.0</td>\n",
       "      <td>0.0</td>\n",
       "      <td>0.0</td>\n",
       "      <td>0.0</td>\n",
       "      <td>22.0</td>\n",
       "      <td>True</td>\n",
       "      <td>148.119891</td>\n",
       "    </tr>\n",
       "    <tr>\n",
       "      <th>1936754</th>\n",
       "      <td>7009717</td>\n",
       "      <td>12</td>\n",
       "      <td>13</td>\n",
       "      <td>6</td>\n",
       "      <td>657.0</td>\n",
       "      <td>600</td>\n",
       "      <td>904.0</td>\n",
       "      <td>749</td>\n",
       "      <td>DL</td>\n",
       "      <td>1631</td>\n",
       "      <td>...</td>\n",
       "      <td>481</td>\n",
       "      <td>15.0</td>\n",
       "      <td>34.0</td>\n",
       "      <td>0.0</td>\n",
       "      <td>57.0</td>\n",
       "      <td>18.0</td>\n",
       "      <td>0.0</td>\n",
       "      <td>0.0</td>\n",
       "      <td>True</td>\n",
       "      <td>116.842105</td>\n",
       "    </tr>\n",
       "    <tr>\n",
       "      <th>1936755</th>\n",
       "      <td>7009718</td>\n",
       "      <td>12</td>\n",
       "      <td>13</td>\n",
       "      <td>6</td>\n",
       "      <td>1007.0</td>\n",
       "      <td>847</td>\n",
       "      <td>1149.0</td>\n",
       "      <td>1010</td>\n",
       "      <td>DL</td>\n",
       "      <td>1631</td>\n",
       "      <td>...</td>\n",
       "      <td>689</td>\n",
       "      <td>8.0</td>\n",
       "      <td>32.0</td>\n",
       "      <td>1.0</td>\n",
       "      <td>0.0</td>\n",
       "      <td>19.0</td>\n",
       "      <td>0.0</td>\n",
       "      <td>79.0</td>\n",
       "      <td>True</td>\n",
       "      <td>291.126761</td>\n",
       "    </tr>\n",
       "    <tr>\n",
       "      <th>1936756</th>\n",
       "      <td>7009726</td>\n",
       "      <td>12</td>\n",
       "      <td>13</td>\n",
       "      <td>6</td>\n",
       "      <td>1251.0</td>\n",
       "      <td>1240</td>\n",
       "      <td>1446.0</td>\n",
       "      <td>1437</td>\n",
       "      <td>DL</td>\n",
       "      <td>1639</td>\n",
       "      <td>...</td>\n",
       "      <td>533</td>\n",
       "      <td>13.0</td>\n",
       "      <td>13.0</td>\n",
       "      <td>NaN</td>\n",
       "      <td>NaN</td>\n",
       "      <td>NaN</td>\n",
       "      <td>NaN</td>\n",
       "      <td>NaN</td>\n",
       "      <td>True</td>\n",
       "      <td>164.000000</td>\n",
       "    </tr>\n",
       "    <tr>\n",
       "      <th>1936757</th>\n",
       "      <td>7009727</td>\n",
       "      <td>12</td>\n",
       "      <td>13</td>\n",
       "      <td>6</td>\n",
       "      <td>1110.0</td>\n",
       "      <td>1103</td>\n",
       "      <td>1413.0</td>\n",
       "      <td>1418</td>\n",
       "      <td>DL</td>\n",
       "      <td>1641</td>\n",
       "      <td>...</td>\n",
       "      <td>874</td>\n",
       "      <td>8.0</td>\n",
       "      <td>11.0</td>\n",
       "      <td>NaN</td>\n",
       "      <td>NaN</td>\n",
       "      <td>NaN</td>\n",
       "      <td>NaN</td>\n",
       "      <td>NaN</td>\n",
       "      <td>False</td>\n",
       "      <td>173.069307</td>\n",
       "    </tr>\n",
       "  </tbody>\n",
       "</table>\n",
       "<p>1936758 rows × 28 columns</p>\n",
       "</div>"
      ],
      "text/plain": [
       "              id  Month  DayofMonth  DayOfWeek  DepTime  CRSDepTime  ArrTime  \\\n",
       "0              0      1           3          4   2003.0        1955   2211.0   \n",
       "1              1      1           3          4    754.0         735   1002.0   \n",
       "2              2      1           3          4    628.0         620    804.0   \n",
       "3              4      1           3          4   1829.0        1755   1959.0   \n",
       "4              5      1           3          4   1940.0        1915   2121.0   \n",
       "...          ...    ...         ...        ...      ...         ...      ...   \n",
       "1936753  7009710     12          13          6   1250.0        1220   1617.0   \n",
       "1936754  7009717     12          13          6    657.0         600    904.0   \n",
       "1936755  7009718     12          13          6   1007.0         847   1149.0   \n",
       "1936756  7009726     12          13          6   1251.0        1240   1446.0   \n",
       "1936757  7009727     12          13          6   1110.0        1103   1413.0   \n",
       "\n",
       "         CRSArrTime UniqueCarrier  FlightNum  ... Distance  TaxiIn  TaxiOut  \\\n",
       "0              2225            WN        335  ...      810     4.0      8.0   \n",
       "1              1000            WN       3231  ...      810     5.0     10.0   \n",
       "2               750            WN        448  ...      515     3.0     17.0   \n",
       "3              1925            WN       3920  ...      515     3.0     10.0   \n",
       "4              2110            WN        378  ...      688     4.0     10.0   \n",
       "...             ...           ...        ...  ...      ...     ...      ...   \n",
       "1936753        1552            DL       1621  ...      906     9.0     18.0   \n",
       "1936754         749            DL       1631  ...      481    15.0     34.0   \n",
       "1936755        1010            DL       1631  ...      689     8.0     32.0   \n",
       "1936756        1437            DL       1639  ...      533    13.0     13.0   \n",
       "1936757        1418            DL       1641  ...      874     8.0     11.0   \n",
       "\n",
       "         CarrierDelay  WeatherDelay  NASDelay SecurityDelay LateAircraftDelay  \\\n",
       "0                 NaN           NaN       NaN           NaN               NaN   \n",
       "1                 NaN           NaN       NaN           NaN               NaN   \n",
       "2                 NaN           NaN       NaN           NaN               NaN   \n",
       "3                 2.0           0.0       0.0           0.0              32.0   \n",
       "4                 NaN           NaN       NaN           NaN               NaN   \n",
       "...               ...           ...       ...           ...               ...   \n",
       "1936753           3.0           0.0       0.0           0.0              22.0   \n",
       "1936754           0.0          57.0      18.0           0.0               0.0   \n",
       "1936755           1.0           0.0      19.0           0.0              79.0   \n",
       "1936756           NaN           NaN       NaN           NaN               NaN   \n",
       "1936757           NaN           NaN       NaN           NaN               NaN   \n",
       "\n",
       "         haarribattard  velocitatmitja  \n",
       "0                False      233.653846  \n",
       "1                 True      195.967742  \n",
       "2                 True      175.568182  \n",
       "3                 True      237.692308  \n",
       "4                 True      228.066298  \n",
       "...                ...             ...  \n",
       "1936753           True      148.119891  \n",
       "1936754           True      116.842105  \n",
       "1936755           True      291.126761  \n",
       "1936756           True      164.000000  \n",
       "1936757          False      173.069307  \n",
       "\n",
       "[1936758 rows x 28 columns]"
      ]
     },
     "execution_count": 82,
     "metadata": {},
     "output_type": "execute_result"
    }
   ],
   "source": [
    "ds"
   ]
  },
  {
   "cell_type": "code",
   "execution_count": 62,
   "id": "022f3afc",
   "metadata": {},
   "outputs": [
    {
     "data": {
      "text/plain": [
       "Unnamed: 0             int64\n",
       "Year                   int64\n",
       "Month                  int64\n",
       "DayofMonth             int64\n",
       "DayOfWeek              int64\n",
       "DepTime              float64\n",
       "CRSDepTime             int64\n",
       "ArrTime              float64\n",
       "CRSArrTime             int64\n",
       "UniqueCarrier         object\n",
       "FlightNum              int64\n",
       "TailNum               object\n",
       "ActualElapsedTime    float64\n",
       "CRSElapsedTime       float64\n",
       "AirTime              float64\n",
       "ArrDelay             float64\n",
       "DepDelay             float64\n",
       "Origin                object\n",
       "Dest                  object\n",
       "Distance               int64\n",
       "TaxiIn               float64\n",
       "TaxiOut              float64\n",
       "Cancelled              int64\n",
       "CancellationCode      object\n",
       "Diverted               int64\n",
       "CarrierDelay         float64\n",
       "WeatherDelay         float64\n",
       "NASDelay             float64\n",
       "SecurityDelay        float64\n",
       "LateAircraftDelay    float64\n",
       "dtype: object"
      ]
     },
     "execution_count": 62,
     "metadata": {},
     "output_type": "execute_result"
    }
   ],
   "source": [
    "ds.dtypes"
   ]
  },
  {
   "cell_type": "markdown",
   "id": "5e31560d",
   "metadata": {},
   "source": [
    "#### Determinem que la columna Year no canvia de valor, així que no ens aporta res"
   ]
  },
  {
   "cell_type": "code",
   "execution_count": 64,
   "id": "920563eb",
   "metadata": {},
   "outputs": [
    {
     "data": {
      "text/plain": [
       "count    1936758.0\n",
       "mean        2008.0\n",
       "std            0.0\n",
       "min         2008.0\n",
       "25%         2008.0\n",
       "50%         2008.0\n",
       "75%         2008.0\n",
       "max         2008.0\n",
       "Name: Year, dtype: float64"
      ]
     },
     "execution_count": 64,
     "metadata": {},
     "output_type": "execute_result"
    }
   ],
   "source": [
    "ds['Year'].describe()"
   ]
  },
  {
   "cell_type": "markdown",
   "id": "53731952",
   "metadata": {},
   "source": [
    "#### Eliminem columna Year"
   ]
  },
  {
   "cell_type": "code",
   "execution_count": 66,
   "id": "4c08745b",
   "metadata": {},
   "outputs": [],
   "source": [
    "ds.drop([\"Year\"], axis=1, inplace=True)"
   ]
  },
  {
   "cell_type": "markdown",
   "id": "9531a4f6",
   "metadata": {},
   "source": [
    "#### Determinem que la columna Diverted te poca informació"
   ]
  },
  {
   "cell_type": "code",
   "execution_count": 67,
   "id": "6cecc788",
   "metadata": {},
   "outputs": [
    {
     "data": {
      "text/plain": [
       "count    1.936758e+06\n",
       "mean     4.003598e-03\n",
       "std      6.314722e-02\n",
       "min      0.000000e+00\n",
       "25%      0.000000e+00\n",
       "50%      0.000000e+00\n",
       "75%      0.000000e+00\n",
       "max      1.000000e+00\n",
       "Name: Diverted, dtype: float64"
      ]
     },
     "execution_count": 67,
     "metadata": {},
     "output_type": "execute_result"
    }
   ],
   "source": [
    "ds['Diverted'].describe()"
   ]
  },
  {
   "cell_type": "markdown",
   "id": "3b4afe3a",
   "metadata": {},
   "source": [
    "#### Eliminem columna Diverted"
   ]
  },
  {
   "cell_type": "code",
   "execution_count": 68,
   "id": "924a08ce",
   "metadata": {},
   "outputs": [],
   "source": [
    "ds.drop([\"Diverted\"], axis=1, inplace=True)"
   ]
  },
  {
   "cell_type": "markdown",
   "id": "4d1306e9",
   "metadata": {},
   "source": [
    "#### Determinem que la columna Cancelled te poca informació"
   ]
  },
  {
   "cell_type": "code",
   "execution_count": 69,
   "id": "bb836423",
   "metadata": {},
   "outputs": [
    {
     "data": {
      "text/plain": [
       "count    1.936758e+06\n",
       "mean     3.268348e-04\n",
       "std      1.807562e-02\n",
       "min      0.000000e+00\n",
       "25%      0.000000e+00\n",
       "50%      0.000000e+00\n",
       "75%      0.000000e+00\n",
       "max      1.000000e+00\n",
       "Name: Cancelled, dtype: float64"
      ]
     },
     "execution_count": 69,
     "metadata": {},
     "output_type": "execute_result"
    }
   ],
   "source": [
    "ds['Cancelled'].describe()"
   ]
  },
  {
   "cell_type": "markdown",
   "id": "693c8839",
   "metadata": {},
   "source": [
    "#### Eliminem columna Cancelled"
   ]
  },
  {
   "cell_type": "code",
   "execution_count": 70,
   "id": "aaa67118",
   "metadata": {},
   "outputs": [],
   "source": [
    "ds.drop([\"Cancelled\"], axis=1, inplace=True)"
   ]
  },
  {
   "cell_type": "markdown",
   "id": "4c04e663",
   "metadata": {},
   "source": [
    "Determinem que la columna CancellationCode te poca informació"
   ]
  },
  {
   "cell_type": "code",
   "execution_count": 72,
   "id": "7c657be1",
   "metadata": {},
   "outputs": [
    {
     "data": {
      "text/plain": [
       "count     1936758\n",
       "unique          4\n",
       "top             N\n",
       "freq      1936125\n",
       "Name: CancellationCode, dtype: object"
      ]
     },
     "execution_count": 72,
     "metadata": {},
     "output_type": "execute_result"
    }
   ],
   "source": [
    "ds['CancellationCode'].describe()"
   ]
  },
  {
   "cell_type": "markdown",
   "id": "9dfd9b31",
   "metadata": {},
   "source": [
    "#### Eliminem columna CancellationCode"
   ]
  },
  {
   "cell_type": "code",
   "execution_count": 73,
   "id": "e26a01b9",
   "metadata": {},
   "outputs": [],
   "source": [
    "ds.drop([\"CancellationCode\"], axis=1, inplace=True)"
   ]
  },
  {
   "cell_type": "markdown",
   "id": "9edf9044",
   "metadata": {},
   "source": [
    "#### Li donem nom a la columna principal"
   ]
  },
  {
   "cell_type": "code",
   "execution_count": 75,
   "id": "d7c5f91b",
   "metadata": {},
   "outputs": [],
   "source": [
    "ds=ds.rename(columns={ds.columns[0]: 'id'})"
   ]
  },
  {
   "cell_type": "markdown",
   "id": "737959e0",
   "metadata": {},
   "source": [
    "# Exercici 2"
   ]
  },
  {
   "cell_type": "markdown",
   "id": "f1b2180a",
   "metadata": {},
   "source": [
    "#### Fes un informe complet del data set:"
   ]
  },
  {
   "cell_type": "markdown",
   "id": "4832caf4",
   "metadata": {},
   "source": [
    "#### Resumeix estadísticament les columnes d’interès"
   ]
  },
  {
   "cell_type": "code",
   "execution_count": 31,
   "id": "9e4ab140",
   "metadata": {},
   "outputs": [],
   "source": [
    "ds.describe()"
   ]
  },
  {
   "cell_type": "markdown",
   "id": "5a29fd2f",
   "metadata": {},
   "source": [
    "#### Troba quantes dades faltants hi ha per columna"
   ]
  },
  {
   "cell_type": "code",
   "execution_count": 41,
   "id": "61337ef9",
   "metadata": {},
   "outputs": [
    {
     "data": {
      "text/plain": [
       "id                        0\n",
       "Month                     0\n",
       "DayofMonth                0\n",
       "DayOfWeek                 0\n",
       "DepTime                   0\n",
       "CRSDepTime                0\n",
       "ArrTime                7110\n",
       "CRSArrTime                0\n",
       "UniqueCarrier             0\n",
       "FlightNum                 0\n",
       "TailNum                   5\n",
       "ActualElapsedTime      8387\n",
       "CRSElapsedTime          198\n",
       "AirTime                8387\n",
       "ArrDelay               8387\n",
       "DepDelay                  0\n",
       "Origin                    0\n",
       "Dest                      0\n",
       "Distance                  0\n",
       "TaxiIn                 7110\n",
       "TaxiOut                 455\n",
       "CarrierDelay         689270\n",
       "WeatherDelay         689270\n",
       "NASDelay             689270\n",
       "SecurityDelay        689270\n",
       "LateAircraftDelay    689270\n",
       "dtype: int64"
      ]
     },
     "execution_count": 41,
     "metadata": {},
     "output_type": "execute_result"
    }
   ],
   "source": [
    "ds.isna().sum()"
   ]
  },
  {
   "cell_type": "markdown",
   "id": "c1d2d6d4",
   "metadata": {},
   "source": [
    "#### Quins són els vols més llargs?"
   ]
  },
  {
   "cell_type": "code",
   "execution_count": 91,
   "id": "1b75d861",
   "metadata": {},
   "outputs": [
    {
     "data": {
      "text/html": [
       "<div>\n",
       "<style scoped>\n",
       "    .dataframe tbody tr th:only-of-type {\n",
       "        vertical-align: middle;\n",
       "    }\n",
       "\n",
       "    .dataframe tbody tr th {\n",
       "        vertical-align: top;\n",
       "    }\n",
       "\n",
       "    .dataframe thead th {\n",
       "        text-align: right;\n",
       "    }\n",
       "</style>\n",
       "<table border=\"1\" class=\"dataframe\">\n",
       "  <thead>\n",
       "    <tr style=\"text-align: right;\">\n",
       "      <th></th>\n",
       "      <th>FlightNum</th>\n",
       "      <th>AirTime</th>\n",
       "    </tr>\n",
       "  </thead>\n",
       "  <tbody>\n",
       "    <tr>\n",
       "      <th>1488690</th>\n",
       "      <td>21</td>\n",
       "      <td>1091.0</td>\n",
       "    </tr>\n",
       "    <tr>\n",
       "      <th>1367047</th>\n",
       "      <td>28</td>\n",
       "      <td>733.0</td>\n",
       "    </tr>\n",
       "    <tr>\n",
       "      <th>362529</th>\n",
       "      <td>15</td>\n",
       "      <td>664.0</td>\n",
       "    </tr>\n",
       "    <tr>\n",
       "      <th>556381</th>\n",
       "      <td>15</td>\n",
       "      <td>655.0</td>\n",
       "    </tr>\n",
       "    <tr>\n",
       "      <th>556385</th>\n",
       "      <td>15</td>\n",
       "      <td>654.0</td>\n",
       "    </tr>\n",
       "    <tr>\n",
       "      <th>556379</th>\n",
       "      <td>15</td>\n",
       "      <td>654.0</td>\n",
       "    </tr>\n",
       "    <tr>\n",
       "      <th>556377</th>\n",
       "      <td>15</td>\n",
       "      <td>652.0</td>\n",
       "    </tr>\n",
       "    <tr>\n",
       "      <th>556386</th>\n",
       "      <td>15</td>\n",
       "      <td>651.0</td>\n",
       "    </tr>\n",
       "    <tr>\n",
       "      <th>362852</th>\n",
       "      <td>15</td>\n",
       "      <td>649.0</td>\n",
       "    </tr>\n",
       "    <tr>\n",
       "      <th>363750</th>\n",
       "      <td>15</td>\n",
       "      <td>648.0</td>\n",
       "    </tr>\n",
       "  </tbody>\n",
       "</table>\n",
       "</div>"
      ],
      "text/plain": [
       "         FlightNum  AirTime\n",
       "1488690         21   1091.0\n",
       "1367047         28    733.0\n",
       "362529          15    664.0\n",
       "556381          15    655.0\n",
       "556385          15    654.0\n",
       "556379          15    654.0\n",
       "556377          15    652.0\n",
       "556386          15    651.0\n",
       "362852          15    649.0\n",
       "363750          15    648.0"
      ]
     },
     "execution_count": 91,
     "metadata": {},
     "output_type": "execute_result"
    }
   ],
   "source": [
    "ds[['FlightNum', 'AirTime']].sort_values(by=['AirTime'], ascending=False).head(10)"
   ]
  },
  {
   "cell_type": "markdown",
   "id": "4874ed39",
   "metadata": {},
   "source": [
    "#### I els més endarrerits?"
   ]
  },
  {
   "cell_type": "code",
   "execution_count": 102,
   "id": "70b5a0b6",
   "metadata": {},
   "outputs": [
    {
     "data": {
      "text/html": [
       "<div>\n",
       "<style scoped>\n",
       "    .dataframe tbody tr th:only-of-type {\n",
       "        vertical-align: middle;\n",
       "    }\n",
       "\n",
       "    .dataframe tbody tr th {\n",
       "        vertical-align: top;\n",
       "    }\n",
       "\n",
       "    .dataframe thead th {\n",
       "        text-align: right;\n",
       "    }\n",
       "</style>\n",
       "<table border=\"1\" class=\"dataframe\">\n",
       "  <thead>\n",
       "    <tr style=\"text-align: right;\">\n",
       "      <th></th>\n",
       "      <th>FlightNum</th>\n",
       "      <th>tempstard</th>\n",
       "    </tr>\n",
       "  </thead>\n",
       "  <tbody>\n",
       "    <tr>\n",
       "      <th>302956</th>\n",
       "      <td>36</td>\n",
       "      <td>-2358.0</td>\n",
       "    </tr>\n",
       "    <tr>\n",
       "      <th>1729502</th>\n",
       "      <td>209</td>\n",
       "      <td>-2358.0</td>\n",
       "    </tr>\n",
       "    <tr>\n",
       "      <th>561770</th>\n",
       "      <td>796</td>\n",
       "      <td>-2358.0</td>\n",
       "    </tr>\n",
       "    <tr>\n",
       "      <th>489716</th>\n",
       "      <td>360</td>\n",
       "      <td>-2358.0</td>\n",
       "    </tr>\n",
       "    <tr>\n",
       "      <th>693706</th>\n",
       "      <td>410</td>\n",
       "      <td>-2358.0</td>\n",
       "    </tr>\n",
       "    <tr>\n",
       "      <th>...</th>\n",
       "      <td>...</td>\n",
       "      <td>...</td>\n",
       "    </tr>\n",
       "    <tr>\n",
       "      <th>1934590</th>\n",
       "      <td>1743</td>\n",
       "      <td>NaN</td>\n",
       "    </tr>\n",
       "    <tr>\n",
       "      <th>1935491</th>\n",
       "      <td>1405</td>\n",
       "      <td>NaN</td>\n",
       "    </tr>\n",
       "    <tr>\n",
       "      <th>1935651</th>\n",
       "      <td>1706</td>\n",
       "      <td>NaN</td>\n",
       "    </tr>\n",
       "    <tr>\n",
       "      <th>1935876</th>\n",
       "      <td>892</td>\n",
       "      <td>NaN</td>\n",
       "    </tr>\n",
       "    <tr>\n",
       "      <th>1936470</th>\n",
       "      <td>1372</td>\n",
       "      <td>NaN</td>\n",
       "    </tr>\n",
       "  </tbody>\n",
       "</table>\n",
       "<p>1936758 rows × 2 columns</p>\n",
       "</div>"
      ],
      "text/plain": [
       "         FlightNum  tempstard\n",
       "302956          36    -2358.0\n",
       "1729502        209    -2358.0\n",
       "561770         796    -2358.0\n",
       "489716         360    -2358.0\n",
       "693706         410    -2358.0\n",
       "...            ...        ...\n",
       "1934590       1743        NaN\n",
       "1935491       1405        NaN\n",
       "1935651       1706        NaN\n",
       "1935876        892        NaN\n",
       "1936470       1372        NaN\n",
       "\n",
       "[1936758 rows x 2 columns]"
      ]
     },
     "execution_count": 102,
     "metadata": {},
     "output_type": "execute_result"
    }
   ],
   "source": [
    "ds['tempstard'] = ds['ArrTime']-ds['CRSArrTime']\n",
    "ds[['FlightNum', 'tempstard']].sort_values('tempstard')"
   ]
  },
  {
   "cell_type": "markdown",
   "id": "91be1297",
   "metadata": {},
   "source": [
    "#### Crea columnes noves (velocitat mitjana del vol, si ha arribat tard o no...)"
   ]
  },
  {
   "cell_type": "code",
   "execution_count": 78,
   "id": "f8f77619",
   "metadata": {},
   "outputs": [],
   "source": [
    "ds['velocitatmitja'] = ds['Distance']/(( ds['ArrTime']-ds['DepTime'])/60)"
   ]
  },
  {
   "cell_type": "markdown",
   "id": "911a6d8c",
   "metadata": {},
   "source": [
    "#### Crear columna ha arribat tard, de tipus boolean"
   ]
  },
  {
   "cell_type": "code",
   "execution_count": 81,
   "id": "01e3d05c",
   "metadata": {},
   "outputs": [],
   "source": [
    "ds['haarribattard'] = ds['ArrTime']>ds['CRSArrTime']"
   ]
  },
  {
   "cell_type": "markdown",
   "id": "3b1c9961",
   "metadata": {},
   "source": [
    "#### Taula de les aerolínies amb més endarreriments acumulats"
   ]
  },
  {
   "cell_type": "code",
   "execution_count": 106,
   "id": "d7796649",
   "metadata": {
    "scrolled": true
   },
   "outputs": [
    {
     "data": {
      "text/html": [
       "<div>\n",
       "<style scoped>\n",
       "    .dataframe tbody tr th:only-of-type {\n",
       "        vertical-align: middle;\n",
       "    }\n",
       "\n",
       "    .dataframe tbody tr th {\n",
       "        vertical-align: top;\n",
       "    }\n",
       "\n",
       "    .dataframe thead th {\n",
       "        text-align: right;\n",
       "    }\n",
       "</style>\n",
       "<table border=\"1\" class=\"dataframe\">\n",
       "  <thead>\n",
       "    <tr style=\"text-align: right;\">\n",
       "      <th></th>\n",
       "      <th>tempstard</th>\n",
       "    </tr>\n",
       "    <tr>\n",
       "      <th>UniqueCarrier</th>\n",
       "      <th></th>\n",
       "    </tr>\n",
       "  </thead>\n",
       "  <tbody>\n",
       "    <tr>\n",
       "      <th>MQ</th>\n",
       "      <td>3761306.0</td>\n",
       "    </tr>\n",
       "    <tr>\n",
       "      <th>EV</th>\n",
       "      <td>2040979.0</td>\n",
       "    </tr>\n",
       "    <tr>\n",
       "      <th>OO</th>\n",
       "      <td>1292562.0</td>\n",
       "    </tr>\n",
       "    <tr>\n",
       "      <th>9E</th>\n",
       "      <td>818754.0</td>\n",
       "    </tr>\n",
       "    <tr>\n",
       "      <th>AQ</th>\n",
       "      <td>-3426.0</td>\n",
       "    </tr>\n",
       "    <tr>\n",
       "      <th>OH</th>\n",
       "      <td>-6425.0</td>\n",
       "    </tr>\n",
       "    <tr>\n",
       "      <th>HA</th>\n",
       "      <td>-213235.0</td>\n",
       "    </tr>\n",
       "    <tr>\n",
       "      <th>YV</th>\n",
       "      <td>-551591.0</td>\n",
       "    </tr>\n",
       "    <tr>\n",
       "      <th>AS</th>\n",
       "      <td>-575216.0</td>\n",
       "    </tr>\n",
       "    <tr>\n",
       "      <th>XE</th>\n",
       "      <td>-1516440.0</td>\n",
       "    </tr>\n",
       "  </tbody>\n",
       "</table>\n",
       "</div>"
      ],
      "text/plain": [
       "               tempstard\n",
       "UniqueCarrier           \n",
       "MQ             3761306.0\n",
       "EV             2040979.0\n",
       "OO             1292562.0\n",
       "9E              818754.0\n",
       "AQ               -3426.0\n",
       "OH               -6425.0\n",
       "HA             -213235.0\n",
       "YV             -551591.0\n",
       "AS             -575216.0\n",
       "XE            -1516440.0"
      ]
     },
     "execution_count": 106,
     "metadata": {},
     "output_type": "execute_result"
    }
   ],
   "source": [
    "ds[['UniqueCarrier', 'tempstard']].groupby(['UniqueCarrier']).sum().sort_values(by=['tempstard'], ascending=False).head(10)"
   ]
  },
  {
   "cell_type": "markdown",
   "id": "6b1a0c9c",
   "metadata": {},
   "source": [
    "# Exercici 3"
   ]
  },
  {
   "cell_type": "markdown",
   "id": "ab4f685f",
   "metadata": {},
   "source": [
    "#### Exporta el data set net i amb les noves columnes a Excel"
   ]
  },
  {
   "cell_type": "code",
   "execution_count": 109,
   "id": "2da0e74f",
   "metadata": {},
   "outputs": [],
   "source": [
    "ds.head(100).to_csv('S02T05/DelayedExport.csv')"
   ]
  },
  {
   "cell_type": "code",
   "execution_count": 111,
   "id": "ca5ac27d",
   "metadata": {},
   "outputs": [],
   "source": [
    "ds.head(100).to_excel(\"S02T05/DelayedExport.xlsx\",sheet_name='Fulla1') "
   ]
  }
 ],
 "metadata": {
  "kernelspec": {
   "display_name": "Python 3 (ipykernel)",
   "language": "python",
   "name": "python3"
  },
  "language_info": {
   "codemirror_mode": {
    "name": "ipython",
    "version": 3
   },
   "file_extension": ".py",
   "mimetype": "text/x-python",
   "name": "python",
   "nbconvert_exporter": "python",
   "pygments_lexer": "ipython3",
   "version": "3.9.12"
  }
 },
 "nbformat": 4,
 "nbformat_minor": 5
}
